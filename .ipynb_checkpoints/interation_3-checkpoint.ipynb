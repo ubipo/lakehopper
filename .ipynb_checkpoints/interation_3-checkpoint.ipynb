{
 "cells": [
  {
   "cell_type": "markdown",
   "id": "2392841c",
   "metadata": {},
   "source": [
    "# Iteration 3"
   ]
  },
  {
   "cell_type": "code",
   "execution_count": 231,
   "id": "dc259144",
   "metadata": {},
   "outputs": [],
   "source": [
    "from unyt import km, m, mm, inch, g, kg, hr, minute, s, degree, radian, volt\n",
    "import numpy as np\n",
    "from matplotlib import pyplot as plt\n",
    "from math import pi as π\n",
    "%matplotlib inline"
   ]
  },
  {
   "cell_type": "code",
   "execution_count": 105,
   "id": "299990ac",
   "metadata": {},
   "outputs": [],
   "source": [
    "rpm = minute**-1"
   ]
  },
  {
   "cell_type": "code",
   "execution_count": 2,
   "id": "19674875",
   "metadata": {},
   "outputs": [],
   "source": [
    "ρ = 1.225*kg/m**3 # air density\n",
    "μinf = 1.81e-5*kg/(m*s) # viscosity of air"
   ]
  },
  {
   "cell_type": "markdown",
   "id": "3df48cd3",
   "metadata": {},
   "source": [
    "Goals:\n",
    "- Use more accurate weight estimate\n",
    "- Increase the AR a little (13 or something)\n",
    "- Decrease air speed"
   ]
  },
  {
   "cell_type": "markdown",
   "id": "dcbf7f78",
   "metadata": {},
   "source": [
    "## Initial Design"
   ]
  },
  {
   "cell_type": "markdown",
   "id": "3aa0bec4",
   "metadata": {},
   "source": [
    "Increased wingspan from 2850 to 3050."
   ]
  },
  {
   "cell_type": "code",
   "execution_count": 3,
   "id": "d6af5fd7",
   "metadata": {
    "scrolled": true
   },
   "outputs": [],
   "source": [
    "b = 3050*mm # wingspan\n",
    "c = 230*mm # chord"
   ]
  },
  {
   "cell_type": "code",
   "execution_count": 4,
   "id": "5b7f0715",
   "metadata": {},
   "outputs": [],
   "source": [
    "S = b*c # wing area\n",
    "AR = b**2/S"
   ]
  },
  {
   "cell_type": "code",
   "execution_count": 5,
   "id": "f89ae7c2",
   "metadata": {
    "scrolled": true
   },
   "outputs": [
    {
     "data": {
      "text/plain": [
       "unyt_quantity(13.26086957, '(dimensionless)')"
      ]
     },
     "execution_count": 5,
     "metadata": {},
     "output_type": "execute_result"
    }
   ],
   "source": [
    "AR"
   ]
  },
  {
   "cell_type": "markdown",
   "id": "ec9d05bc",
   "metadata": {},
   "source": [
    "## Weight Estimate"
   ]
  },
  {
   "cell_type": "markdown",
   "id": "95fd30f4",
   "metadata": {},
   "source": [
    "Weight stimate lowered from 3700 to 2340."
   ]
  },
  {
   "cell_type": "code",
   "execution_count": 6,
   "id": "d81035dc",
   "metadata": {},
   "outputs": [],
   "source": [
    "W = 2340*g # weight"
   ]
  },
  {
   "cell_type": "markdown",
   "id": "5e2ba7c9",
   "metadata": {},
   "source": [
    "![iteration_3-weight-tabulation](iteration_3-weight-tabulation.png)"
   ]
  },
  {
   "cell_type": "markdown",
   "id": "7aa76215",
   "metadata": {},
   "source": [
    "## Airfoil Selection"
   ]
  },
  {
   "cell_type": "markdown",
   "id": "1c410cb5",
   "metadata": {},
   "source": [
    "Cruise speed lowered from 45 to 30."
   ]
  },
  {
   "cell_type": "code",
   "execution_count": 7,
   "id": "308185f7",
   "metadata": {
    "scrolled": false
   },
   "outputs": [],
   "source": [
    "V = 30*km/hr # cruise speed"
   ]
  },
  {
   "cell_type": "code",
   "execution_count": 8,
   "id": "b6a97d00",
   "metadata": {
    "scrolled": true
   },
   "outputs": [],
   "source": [
    "CL = (2*W)/(ρ*V**2*S)"
   ]
  },
  {
   "cell_type": "code",
   "execution_count": 9,
   "id": "7302161d",
   "metadata": {},
   "outputs": [
    {
     "data": {
      "text/plain": [
       "130000.0"
      ]
     },
     "execution_count": 9,
     "metadata": {},
     "output_type": "execute_result"
    }
   ],
   "source": [
    "Re = (ρ*V*c)/μinf\n",
    "round(Re.to_value(), -3)"
   ]
  },
  {
   "cell_type": "markdown",
   "id": "0ec6add4",
   "metadata": {},
   "source": [
    "![clarky-cl-v-alpha](clarky-cl-v-alpha.png)"
   ]
  },
  {
   "cell_type": "markdown",
   "id": "e9f0c6d8",
   "metadata": {},
   "source": [
    "From bottom left up: Blue = 50,000  Orange = 100,000  Green = 200,000"
   ]
  },
  {
   "cell_type": "code",
   "execution_count": 10,
   "id": "71de7c81",
   "metadata": {},
   "outputs": [],
   "source": [
    "α0 = -3.75*degree\n",
    "Clα = 1.05\n",
    "e = 0.8"
   ]
  },
  {
   "cell_type": "code",
   "execution_count": 11,
   "id": "5ce06011",
   "metadata": {
    "scrolled": false
   },
   "outputs": [],
   "source": [
    "CLα = Clα/(1+(Clα/(π*e*AR)))"
   ]
  },
  {
   "cell_type": "code",
   "execution_count": 12,
   "id": "75b67c7f",
   "metadata": {},
   "outputs": [],
   "source": [
    "CL_unitless = CL.to_value('s**2/m')"
   ]
  },
  {
   "cell_type": "code",
   "execution_count": 13,
   "id": "acc3e802",
   "metadata": {},
   "outputs": [
    {
     "data": {
      "text/plain": [
       "unyt_quantity(0.66417137, 'degree')"
      ]
     },
     "execution_count": 13,
     "metadata": {},
     "output_type": "execute_result"
    }
   ],
   "source": [
    "α = α0+((CL_unitless/CLα)*radian)\n",
    "α"
   ]
  },
  {
   "cell_type": "markdown",
   "id": "10b72190",
   "metadata": {},
   "source": [
    "![clarky-cl-cd-v-alpha](clarky-cl-cd-v-alpha.png)"
   ]
  },
  {
   "cell_type": "markdown",
   "id": "a07294ce",
   "metadata": {},
   "source": [
    "### Notes \n",
    "\n",
    "The 0.1° α is better than -0.4, but still not great. I do think I may be understimating the weight and probably overestimating the wing's 3D efficiency (currently 80%). I'll maybe come back to this."
   ]
  },
  {
   "cell_type": "code",
   "execution_count": 14,
   "id": "3613cdca",
   "metadata": {
    "scrolled": true
   },
   "outputs": [
    {
     "name": "stdout",
     "output_type": "stream",
     "text": [
      "Cruise speed: 8.33 m/s, Stall speed: 1.97 m/s\n"
     ]
    }
   ],
   "source": [
    "CLmax = 1.4*s**2/m\n",
    "Vstall = np.sqrt((2*W)/(ρ*S*CLmax))\n",
    "print(f\"Cruise speed: {V.to('m/s'):.2f}, Stall speed: {Vstall:.2f}\")"
   ]
  },
  {
   "cell_type": "markdown",
   "id": "7a0d8c2b",
   "metadata": {},
   "source": [
    "Excellent! I feel like I'm doing something wrong because these results are way too comfortable."
   ]
  },
  {
   "cell_type": "markdown",
   "id": "7590ba2a",
   "metadata": {},
   "source": [
    "## Wing Loading and Thrust to Weight Ratio"
   ]
  },
  {
   "cell_type": "code",
   "execution_count": 15,
   "id": "910a599c",
   "metadata": {
    "scrolled": true
   },
   "outputs": [
    {
     "name": "stdout",
     "output_type": "stream",
     "text": [
      "Wing loading: 3.98 kg/m**3\n"
     ]
    }
   ],
   "source": [
    "WCL = W/(S**(3/2))\n",
    "print(f\"Wing loading: {WCL.to('kg/m**3'):.2f}\")"
   ]
  },
  {
   "cell_type": "markdown",
   "id": "b72cb135",
   "metadata": {},
   "source": [
    "Carlos Montalvo's WCL ballpark table converted from oz/ft^3 to SI units.\n",
    "\n",
    "| Type of Aircraft | WCL (kg/m^3) |\n",
    "| --- | --- |\n",
    "| Gliders | under 4 |\n",
    "| Trainers | 5-7 |\n",
    "| Sport Aerobatic | 8-10 |\n",
    "| Racers | 11-13 |\n",
    "| Scale | over 15 |\n",
    "\n",
    "Ok so oz/ft^3 -> kg/m^3 is apparently nearly 1:1 for these values.\n",
    "\n",
    "Anyway, our 3.98 is OK."
   ]
  },
  {
   "cell_type": "code",
   "execution_count": 16,
   "id": "64f0688e",
   "metadata": {},
   "outputs": [],
   "source": [
    "TtoW = 1.1"
   ]
  },
  {
   "cell_type": "markdown",
   "id": "194331f1",
   "metadata": {},
   "source": [
    "As per 'Aircraft Flight Mechanics': T/W should be above 0.8 in all situations and above 1.2 to be safe with short runways. I did find other resources indicating a sub-.8 T/W is OK for gliders. However, it seems universally accepted that 1+ is necessary for 3D flight.\n",
    "\n",
    "Because I do have future plans for high thrust takeoff with this design, I picked the above."
   ]
  },
  {
   "cell_type": "code",
   "execution_count": 17,
   "id": "08f66732",
   "metadata": {},
   "outputs": [
    {
     "name": "stdout",
     "output_type": "stream",
     "text": [
      "2.57 kg\n"
     ]
    }
   ],
   "source": [
    "T = TtoW*W\n",
    "print(f\"{T.to('kg'):.2f}\")"
   ]
  },
  {
   "cell_type": "markdown",
   "id": "93105950",
   "metadata": {},
   "source": [
    "## Propulsion system"
   ]
  },
  {
   "cell_type": "markdown",
   "id": "fad08691",
   "metadata": {},
   "source": [
    "To choose a propulsion system we'll start by calculating the max speed we need to be able to reach.\n",
    "\n",
    "Assuming we want cruise speed to be 65% throttle:"
   ]
  },
  {
   "cell_type": "code",
   "execution_count": 18,
   "id": "28e860eb",
   "metadata": {},
   "outputs": [
    {
     "name": "stdout",
     "output_type": "stream",
     "text": [
      "Max speed: 12.82 m/s\n"
     ]
    }
   ],
   "source": [
    "Vmax = V/0.65\n",
    "print(f\"Max speed: {Vmax.to('m/s'):.2f}\")"
   ]
  },
  {
   "cell_type": "markdown",
   "id": "10a1db4f",
   "metadata": {},
   "source": [
    "We can then plot the minimum propeller Pitch Y v rpm. (assuming a Pitch Y efficiency of .8.)"
   ]
  },
  {
   "cell_type": "code",
   "execution_count": 277,
   "id": "a585560a",
   "metadata": {},
   "outputs": [
    {
     "data": {
      "text/plain": [
       "Text(0, 0.5, 'Minimum Pitch Y (inch)')"
      ]
     },
     "execution_count": 277,
     "metadata": {},
     "output_type": "execute_result"
    },
    {
     "data": {
      "image/png": "[encoded data removed]",
      "text/plain": [
       "<Figure size 432x288 with 1 Axes>"
      ]
     },
     "metadata": {
      "needs_background": "light"
     },
     "output_type": "display_data"
    }
   ],
   "source": [
    "pitchYe = 0.65\n",
    "minPitchYPerMinute = (Vmax*(1/pitchYe)).to('inch/min')\n",
    "\n",
    "minPitchY, maxPitchY = 2*inch, 17*inch\n",
    "minRpm, maxRpm = minPitchYPerMinute/maxPitchY, minPitchYPerMinute/minPitchY\n",
    "x = np.arange(minRpm, maxRpm, 100*rpm)\n",
    "y = minPitchYPerMinute/x\n",
    "\n",
    "fig = plt.figure()\n",
    "ax = fig.add_axes([0, 0, 1, 1])\n",
    "ax.grid(True)\n",
    "ax.set_ylim([minPitchY, maxPitchY])\n",
    "ax.set_xlim([minRpm, maxRpm])\n",
    "ax.plot(x, y)\n",
    "ax.set_title('Minimum Pitch Y v rpm')\n",
    "ax.set_xlabel('rpm')\n",
    "ax.set_ylabel('Minimum Pitch Y (inch)')"
   ]
  },
  {
   "cell_type": "markdown",
   "id": "2da65109",
   "metadata": {},
   "source": [
    "Or more usefully: the minimum Pitch Y versus the Kv rating for different LiPo cell compositions."
   ]
  },
  {
   "cell_type": "markdown",
   "id": "cd29c067",
   "metadata": {},
   "source": [
    "I also ran MotoCalc. You can find the results (and parameters I used) in [iteration_3-motocalc-results.txt](iteration_3-motocalc-results.txt) (and the project in [iteration_3-motocalc-project.txt](iteration_3-motocalc-project.txt)). \n",
    "\n",
    "The top 4 recommendations are the following (also plotted below):\n",
    "\n",
    "| Kv | Cell Composition | Pitch Y |\n",
    "| --- | --- | --- |\n",
    "| 325 | 5S | 7 |\n",
    "| 480 | 4S | 6 |\n",
    "| 330 | 6S | 7 |\n",
    "| 250 | 5S | 11 |"
   ]
  },
  {
   "cell_type": "code",
   "execution_count": 301,
   "id": "14677add",
   "metadata": {
    "scrolled": false
   },
   "outputs": [
    {
     "data": {
      "text/plain": [
       "<matplotlib.legend.Legend at 0x7f13ce390f70>"
      ]
     },
     "execution_count": 301,
     "metadata": {},
     "output_type": "execute_result"
    },
    {
     "data": {
      "image/png": "[encoded data removed]",
      "text/plain": [
       "<Figure size 432x288 with 1 Axes>"
      ]
     },
     "metadata": {
      "needs_background": "light"
     },
     "output_type": "display_data"
    }
   ],
   "source": [
    "LiPo4SVoltage = 3.7*volt*4\n",
    "LiPo5SVoltage = 3.7*volt*5\n",
    "LiPo6SVoltage = 3.7*volt*6\n",
    "LiPo7SVoltage = 3.7*volt*7\n",
    "\n",
    "minKv, maxKv = minPitchYPerMinute/(maxPitchY*LiPo7SVoltage), minPitchYPerMinute/(minPitchY*LiPo7SVoltage)+200*(rpm/volt)\n",
    "x = np.arange(minKv, maxKv, 5*(rpm/volt))\n",
    "y4S = MinPitchYPerMin/(x*LiPo4SVoltage)\n",
    "y5S = MinPitchYPerMin/(x*LiPo5SVoltage)\n",
    "y6S = MinPitchYPerMin/(x*LiPo6SVoltage)\n",
    "y7S = MinPitchYPerMin/(x*LiPo7SVoltage)\n",
    "\n",
    "fig = plt.figure()\n",
    "ax = fig.add_axes([0, 0, 1, 1])\n",
    "ax.grid(True)\n",
    "ax.set_ylim([minPitchY, maxPitchY])\n",
    "ax.set_xlim([minKv, maxKv])\n",
    "ax.plot(x, y4S, label = \"4S\")\n",
    "ax.plot(x, y5S, label = \"5S\")\n",
    "ax.plot(x, y6S, label = \"6S\")\n",
    "ax.plot(x, y7S, label = \"7S\")\n",
    "plt.plot([325], [7], marker='o', label = \"325/5S/7\")\n",
    "plt.plot([480], [6], marker='o', label = \"480/4S/6\")\n",
    "plt.plot([330], [7], marker='o', label = \"330/6S/7\")\n",
    "plt.plot([250], [11], marker='o', label = \"250/5S/11\")\n",
    "ax.set_title('Minimum Pitch Y v Kv')\n",
    "ax.set_xlabel('Kv rating (rpm/volt)')\n",
    "ax.set_ylabel('Minimum Pitch Y (inch)')\n",
    "ax.legend()"
   ]
  },
  {
   "cell_type": "markdown",
   "id": "f8568b7e",
   "metadata": {},
   "source": [
    "In conculsion: I'm aiming for a minimum 250/4S/12, 300/4S/8, 450/4S/6 but preferably 5 or 6S.\n",
    "\n",
    "As for prop diameter: any combination of the above that gives me at least 2.6 kg of thrust."
   ]
  },
  {
   "cell_type": "markdown",
   "id": "d3b9dd74",
   "metadata": {},
   "source": [
    "### Propulsion system component selection\n",
    "\n",
    "Possible combinations:\n",
    "\n",
    "#### 1. `Turnigy G60 Brushless Outrunner 500kv (.60 Glow)`\n",
    "\n",
    "https://hobbyking.com/en_us/turnigy-g60-brushless-outrunner-500kv-60-glow.html\n",
    "\n",
    "Kv: **500**  \n",
    "Max current: **65A**  \n",
    "Price: **€57.41**  \n",
    "Weight: **360g**  \n",
    "\n",
    "5S LiPo (9250 rpm) + 13x8 prop: **869W 47A 2.85kg**\n",
    "\n",
    "Conclusion: OK\n",
    "\n",
    "#### 2. `PROPDRIVE v2 5060 380KV Brushless Outrunner Motor`\n",
    "\n",
    "https://hobbyking.com/en_us/propdrive-v2-5060-380kv-brushless-outrunner-motor.html\n",
    "\n",
    "Kv: **380**  \n",
    "Max current: **90A**  \n",
    "Price: **€54.71**  \n",
    "Weight: **438g**  \n",
    "\n",
    "From reviews:\n",
    "6S LiPo (8436 rpm) + 15x12 prop: **1110W 50A ???kg**  \n",
    "*thrust probably higher than the G60 (higher wattage)*\n",
    "\n",
    "Conclusion: OK\n",
    "\n",
    "#### 3. `Turnigy G46 Brushless Outrunner 670kv (.46 Glow)`\n",
    "\n",
    "https://hobbyking.com/en_us/propdrive-v2-5060-380kv-brushless-outrunner-motor.html\n",
    "\n",
    "Kv: **670**  \n",
    "Max current: **40A**  \n",
    "Price: **€52.19**  \n",
    "Weight: **303g**  \n",
    "\n",
    "From reviews:  \n",
    "5S LiPo (12395 rpm) + 12x8 prop: **697W 43A 2.9kg**  \n",
    "5S LiPo (12395 rpm) + 13x6 prop: **1000W 54A 3.1kg**  \n",
    "*I don't quite get how current draw is exceeding the max here...*\n",
    "\n",
    "Conclusion: maybe OK, on the uncomfortable side with regards to the max current rating\n",
    "\n",
    "#### 4. `PROPDRIVE v2 5050 580KV Brushless Outrunner Motor`\n",
    "\n",
    "https://hobbyking.com/en_us/propdrive-v2-5050-580kv-brushless-outrunner-motor.html\n",
    "\n",
    "Kv: **580**  \n",
    "Max current: **90A**  \n",
    "Price: **€49.58**  \n",
    "Weight: **331g**  \n",
    "\n",
    "From reviews:  \n",
    "6-7S? LiPo (14247 rpm) + 14x7 prop: **1298W 69A ???kg**  \n",
    "\n",
    "Conclusion: OK\n",
    "\n",
    "#### 5. `PROPDRIVE v2 4258 500KV Brushless Outrunner Motor`\n",
    "\n",
    "https://hobbyking.com/en_us/propdrive-v2-4258-500kv-brushless-outrunner-motor.html\n",
    "\n",
    "Kv: **500**  \n",
    "Max current: **60A**  \n",
    "Price: **€46.10**  \n",
    "Weight: **300g**  \n",
    "\n",
    "4S LiPo (&nbsp; 7400 rpm) + 15x8 prop: &nbsp; **&nbsp; 421W 28.5A ???kg**  \n",
    "5S LiPo (&nbsp; 9250 rpm) + 15x8 prop: &nbsp; **&nbsp; 760W 41.1A ???kg**  \n",
    "6S LiPo (11100 rpm) + 15x8 prop: &nbsp; **1256W 56.6A ???kg**  \n",
    "6S LiPo (11100 rpm) + 16x10 prop: **&nbsp; 669W 45.2A ???kg**  \n",
    "\n",
    "Conclusion: OK\n",
    "\n",
    "#### 6. `Turnigy Aerodrive SK3 - 5055-380KV Brushless Outrunner Motor`\n",
    "\n",
    "https://hobbyking.com/en_us/outrunner-for-1450mm-spitfire-inc-prop-shaft-x-shared-part.html\n",
    "\n",
    "Kv: **380**  \n",
    "Max current: **65A**  \n",
    "Price: **€42.73**  \n",
    "Weight: **422g**  \n",
    "\n",
    "Conclusion: maybe OK"
   ]
  },
  {
   "cell_type": "markdown",
   "id": "33e02008",
   "metadata": {},
   "source": [
    "Comparing all of the above seems a bit arbitrary, and I still have a lot to learn.\n",
    "\n",
    "Regardless I'll be going with #5: the `PROPDRIVE v2 4258 500KV Brushless Outrunner Motor` (€46.10) with 6S battery and 16x10 prop. It is the second cheapest shippable option, the lightest motor, and while using a larger prop and rpm, it achieves a lower power draw (669v869) than #1 (while likely providing more thrust). \n",
    "\n",
    "Also, all reviews are positive and `PROPDRIVE`'s technical specifications seems more complete than Turnigy's, which does inspire more confidence."
   ]
  }
 ],
 "metadata": {
  "kernelspec": {
   "display_name": "Python 3",
   "language": "python",
   "name": "python3"
  },
  "language_info": {
   "codemirror_mode": {
    "name": "ipython",
    "version": 3
   },
   "file_extension": ".py",
   "mimetype": "text/x-python",
   "name": "python",
   "nbconvert_exporter": "python",
   "pygments_lexer": "ipython3",
   "version": "3.9.4"
  }
 },
 "nbformat": 4,
 "nbformat_minor": 5
}
