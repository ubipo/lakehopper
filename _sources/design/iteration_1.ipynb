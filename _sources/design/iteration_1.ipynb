{
 "cells": [
  {
   "cell_type": "markdown",
   "id": "689823e6",
   "metadata": {},
   "source": [
    "# Iteration 1"
   ]
  },
  {
   "cell_type": "code",
   "execution_count": 1,
   "id": "15618dfb",
   "metadata": {},
   "outputs": [],
   "source": [
    "from unyt import m, mm"
   ]
  },
  {
   "cell_type": "markdown",
   "id": "76c4dee8",
   "metadata": {},
   "source": [
    "## Initial design"
   ]
  },
  {
   "cell_type": "code",
   "execution_count": 2,
   "id": "aeb536dc",
   "metadata": {},
   "outputs": [],
   "source": [
    "b = 3050*mm # wingspan\n",
    "c = 200*mm # chord"
   ]
  },
  {
   "cell_type": "code",
   "execution_count": 3,
   "id": "4b85f605",
   "metadata": {},
   "outputs": [],
   "source": [
    "S = b*c # wing area\n",
    "AR = b**2/S"
   ]
  },
  {
   "cell_type": "code",
   "execution_count": 4,
   "id": "1662aac1",
   "metadata": {
    "scrolled": true
   },
   "outputs": [
    {
     "data": {
      "text/plain": [
       "unyt_quantity(15.25, '(dimensionless)')"
      ]
     },
     "execution_count": 4,
     "metadata": {},
     "output_type": "execute_result"
    }
   ],
   "source": [
    "AR"
   ]
  },
  {
   "cell_type": "markdown",
   "id": "83e9b529",
   "metadata": {},
   "source": [
    "Hmmm ok this is a little much..."
   ]
  }
 ],
 "metadata": {
  "kernelspec": {
   "display_name": "Python 3",
   "language": "python",
   "name": "python3"
  },
  "language_info": {
   "codemirror_mode": {
    "name": "ipython",
    "version": 3
   },
   "file_extension": ".py",
   "mimetype": "text/x-python",
   "name": "python",
   "nbconvert_exporter": "python",
   "pygments_lexer": "ipython3",
   "version": "3.9.4"
  }
 },
 "nbformat": 4,
 "nbformat_minor": 5
}
