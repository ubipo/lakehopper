{
 "cells": [
  {
   "cell_type": "markdown",
   "id": "2392841c",
   "metadata": {},
   "source": [
    "# Iteration 5: FPV Weight"
   ]
  },
  {
   "cell_type": "code",
   "execution_count": 1,
   "id": "dc259144",
   "metadata": {},
   "outputs": [],
   "source": [
    "from unyt import km, m, mm, inch, g, kg, hr, minute, s, degree, radian, volt\n",
    "import numpy as np\n",
    "from matplotlib import pyplot as plt\n",
    "from math import pi as π\n",
    "%matplotlib inline"
   ]
  },
  {
   "cell_type": "code",
   "execution_count": 2,
   "id": "299990ac",
   "metadata": {},
   "outputs": [],
   "source": [
    "rpm = minute**-1"
   ]
  },
  {
   "cell_type": "code",
   "execution_count": 3,
   "id": "19674875",
   "metadata": {},
   "outputs": [],
   "source": [
    "ρ = 1.225*kg/m**3 # air density\n",
    "μinf = 1.81e-5*kg/(m*s) # viscosity of air"
   ]
  },
  {
   "cell_type": "markdown",
   "id": "3df48cd3",
   "metadata": {},
   "source": [
    "Goals:\n",
    "- Use more accurate weight estimate with FPV system"
   ]
  },
  {
   "cell_type": "markdown",
   "id": "dcbf7f78",
   "metadata": {},
   "source": [
    "## Initial Design"
   ]
  },
  {
   "cell_type": "code",
   "execution_count": 4,
   "id": "d6af5fd7",
   "metadata": {
    "scrolled": true
   },
   "outputs": [],
   "source": [
    "b = 3050*mm # wingspan\n",
    "c = 230*mm # chord"
   ]
  },
  {
   "cell_type": "code",
   "execution_count": 5,
   "id": "5b7f0715",
   "metadata": {},
   "outputs": [],
   "source": [
    "S = b*c # wing area\n",
    "AR = b**2/S"
   ]
  },
  {
   "cell_type": "code",
   "execution_count": 6,
   "id": "f89ae7c2",
   "metadata": {
    "scrolled": true
   },
   "outputs": [
    {
     "data": {
      "text/plain": [
       "unyt_quantity(13.26086957, '(dimensionless)')"
      ]
     },
     "execution_count": 6,
     "metadata": {},
     "output_type": "execute_result"
    }
   ],
   "source": [
    "AR"
   ]
  },
  {
   "cell_type": "markdown",
   "id": "ec9d05bc",
   "metadata": {},
   "source": [
    "## Weight Estimate"
   ]
  },
  {
   "cell_type": "markdown",
   "id": "95fd30f4",
   "metadata": {},
   "source": [
    "Weight estimate decreased from 3047 to 3000 (included real FPV system weight, more realistic telem weight, increased payload from 500g to 700g)."
   ]
  },
  {
   "cell_type": "code",
   "execution_count": 7,
   "id": "d81035dc",
   "metadata": {},
   "outputs": [],
   "source": [
    "W = 3000*g # weight"
   ]
  },
  {
   "cell_type": "markdown",
   "id": "5e2ba7c9",
   "metadata": {},
   "source": [
    "|Part                 |Volume     |Fraction solid|Weight |Area|Count|Weight total|\n",
    "|---------------------|-----------|--------------|-------|----|-----|------------|\n",
    "|Wing                 |6.42188e+06|0.3           |257.793|    |2    |515.585     |\n",
    "|Fuselage             |54465.1    |1             |7.08046|    |1    |7.08046     |\n",
    "|Tail boom            |353429     |1             |197.92 |    |1    |197.92      |\n",
    "|Wing spar            |120000     |1             |63.4921|    |2    |126.984     |\n",
    "|Horizontal stabilizer|140000     |1             |15.08  |    |1    |15.08       |\n",
    "|Vertical stabilizer  |37500      |1             |4.03929|    |1    |4.03929     |\n",
    "|Stabilizer mount     |51465.8    |1             |6.69056|    |1    |6.69056     |\n",
    "|Battery              |           |              |604.8  |    |1    |604.8       |\n",
    "|ESC                  |           |              |70     |    |1    |70          |\n",
    "|Motor                |           |              |300    |    |1    |300         |\n",
    "|Prop                 |           |              |87     |    |1    |87          |\n",
    "|Pixhawk              |           |              |38     |    |1    |38          |\n",
    "|GPS                  |           |              |30     |    |1    |30          |\n",
    "|Telem                |           |              |40     |    |1    |40          |\n",
    "|Servo                |           |              |35     |    |4    |140         |\n",
    "|GoPro                |           |              |       |    |     |74          |\n",
    "|FPV OSD              |           |              |3      |    |1    |3           |\n",
    "|FPV VTX              |           |              |6      |    |1    |6           |\n",
    "|Power distribution   |           |              |       |    |     |30          |\n",
    "|Payload              |           |              |       |    |     |700         |\n",
    "|Total                |           |              |       |    |     |2996.18     |"
   ]
  },
  {
   "cell_type": "markdown",
   "id": "7aa76215",
   "metadata": {},
   "source": [
    "## Airfoil Selection"
   ]
  },
  {
   "cell_type": "code",
   "execution_count": 8,
   "id": "308185f7",
   "metadata": {
    "scrolled": false
   },
   "outputs": [],
   "source": [
    "V = 30*km/hr # cruise speed"
   ]
  },
  {
   "cell_type": "code",
   "execution_count": 9,
   "id": "b6a97d00",
   "metadata": {
    "scrolled": true
   },
   "outputs": [
    {
     "name": "stdout",
     "output_type": "stream",
     "text": [
      "CL: 0.1005425691302893\n"
     ]
    }
   ],
   "source": [
    "CL = (2*W)/(ρ*V**2*S)\n",
    "print(f\"CL: {CL.to_value('s**2/m')}\")"
   ]
  },
  {
   "cell_type": "code",
   "execution_count": 10,
   "id": "07d1d441",
   "metadata": {},
   "outputs": [
    {
     "data": {
      "text/plain": [
       "unyt_quantity(900, 'km**2/hr**2')"
      ]
     },
     "execution_count": 10,
     "metadata": {},
     "output_type": "execute_result"
    }
   ],
   "source": [
    "(V**2)"
   ]
  },
  {
   "cell_type": "code",
   "execution_count": 11,
   "id": "7302161d",
   "metadata": {},
   "outputs": [
    {
     "data": {
      "text/plain": [
       "130000.0"
      ]
     },
     "execution_count": 11,
     "metadata": {},
     "output_type": "execute_result"
    }
   ],
   "source": [
    "Re = (ρ*V*c)/μinf\n",
    "round(Re.to_value(), -3)"
   ]
  },
  {
   "cell_type": "code",
   "execution_count": 12,
   "id": "71de7c81",
   "metadata": {},
   "outputs": [],
   "source": [
    "α0 = -3.75*degree\n",
    "Clα = 1.05\n",
    "e = 0.8"
   ]
  },
  {
   "cell_type": "code",
   "execution_count": 13,
   "id": "5ce06011",
   "metadata": {
    "scrolled": false
   },
   "outputs": [],
   "source": [
    "CLα = Clα/(1+(Clα/(π*e*AR)))"
   ]
  },
  {
   "cell_type": "code",
   "execution_count": 14,
   "id": "75b67c7f",
   "metadata": {},
   "outputs": [],
   "source": [
    "CL_unitless = CL.to_value('s**2/m')"
   ]
  },
  {
   "cell_type": "code",
   "execution_count": 15,
   "id": "acc3e802",
   "metadata": {},
   "outputs": [
    {
     "data": {
      "text/plain": [
       "unyt_quantity(1.90919406, 'degree')"
      ]
     },
     "execution_count": 15,
     "metadata": {},
     "output_type": "execute_result"
    }
   ],
   "source": [
    "α = α0+((CL_unitless/CLα)*radian)\n",
    "α"
   ]
  },
  {
   "cell_type": "code",
   "execution_count": 16,
   "id": "3613cdca",
   "metadata": {
    "scrolled": true
   },
   "outputs": [
    {
     "name": "stdout",
     "output_type": "stream",
     "text": [
      "Cruise speed: 8.33 m/s, Stall speed: 2.23 m/s\n"
     ]
    }
   ],
   "source": [
    "CLmax = 1.4*s**2/m\n",
    "Vstall = np.sqrt((2*W)/(ρ*S*CLmax))\n",
    "print(f\"Cruise speed: {V.to('m/s'):.2f}, Stall speed: {Vstall:.2f}\")"
   ]
  },
  {
   "cell_type": "markdown",
   "id": "7590ba2a",
   "metadata": {},
   "source": [
    "## Wing Loading and Thrust to Weight Ratio"
   ]
  },
  {
   "cell_type": "code",
   "execution_count": 17,
   "id": "910a599c",
   "metadata": {
    "scrolled": true
   },
   "outputs": [
    {
     "name": "stdout",
     "output_type": "stream",
     "text": [
      "Wing loading: 5.11 kg/m**3\n"
     ]
    }
   ],
   "source": [
    "WCL = W/(S**(3/2))\n",
    "print(f\"Wing loading: {WCL.to('kg/m**3'):.2f}\")"
   ]
  },
  {
   "cell_type": "code",
   "execution_count": 18,
   "id": "08f66732",
   "metadata": {},
   "outputs": [
    {
     "name": "stdout",
     "output_type": "stream",
     "text": [
      "Required thrust: 3.30 kg\n"
     ]
    }
   ],
   "source": [
    "TtoW = 1.1\n",
    "T = TtoW*W\n",
    "print(f\"Required thrust: {T.to('kg'):.2f}\")"
   ]
  },
  {
   "cell_type": "markdown",
   "id": "93105950",
   "metadata": {},
   "source": [
    "## Propulsion System"
   ]
  },
  {
   "cell_type": "markdown",
   "id": "f8568b7e",
   "metadata": {},
   "source": [
    "The propulsion system selection is identical to iteration 4 (16x10/500Kv/6S), because the weight has only been slightly adjusted."
   ]
  },
  {
   "cell_type": "markdown",
   "id": "cfcfef94",
   "metadata": {},
   "source": [
    "## FPV System"
   ]
  },
  {
   "cell_type": "markdown",
   "id": "31be7f6b",
   "metadata": {},
   "source": [
    "I'll be using Holybro's [`Micro OSD V2`](https://shop.holybro.com/micro-osd-v2_p1207.html) + [`Atlatl HV micro`](https://shop.holybro.com/atlatl-hv-micro_p1186.html). The former uses 5V power from the telemetry port and the latter can run off of the 6S pack.\n",
    "\n",
    "Hobbyking currently has an excellent offer (€26.09) on the [`Quanum Cyclops Diversity DVR FPV Goggle`](https://hobbyking.com/en_us/quanum-cyclops-diversity-fpv-goggle.html), which as the name suggests are a single-screen model with build-in DVR. They are 5.8GHz 40CH, like the `Atlatl HV micro` VTX."
   ]
  },
  {
   "cell_type": "markdown",
   "id": "bcd711db",
   "metadata": {},
   "source": [
    "## Servos"
   ]
  },
  {
   "cell_type": "markdown",
   "id": "4582d36d",
   "metadata": {},
   "source": [
    "By using [Radio Control Info's Servo Torque Calculator](https://www.radiocontrolinfo.com/information/rc-calculators/rc-airplane-calculator/#Torque) I calculated that I need servos with at least 5kg of torque for the ailerons. \n",
    "\n",
    "I decided to go with four of the [`HXT12K Metal Gear Servo 25T 11kg / 0.16sec / 55g `](https://hobbyking.com/en_us/hxt-10kg-servo-metal-gear-10kg-0-16sec-55g.html) (two in the wing for the aelerons and two in the fuselage for the elevator + rudder). They produce ample torque for all control surfaces.\n",
    "\n",
    "I did consider the [`Turnigy TGY-813 Slim Wing DS/MG Servo 25T 9.0kg / 0.09sec / 30g`](https://hobbyking.com/en_us/turnigy-tgy-813-slim-wing-ds-mg-servo.html?queryID=&objectID=74683&indexName=hbk_live_magento_en_us_products_hbk_price_stock_7_group_0_asc), which are quite a bit lighter and of course more low profile. However, the HXT12K's fit in the wing anyway, and my wrong weight estimate of 140g vs the actual 220g will not make *that* big of a difference. There were not that many other options outside of these two categories, at least not with 3+kg torque. "
   ]
  },
  {
   "cell_type": "markdown",
   "id": "79832a5e",
   "metadata": {},
   "source": [
    "## Radio"
   ]
  },
  {
   "cell_type": "markdown",
   "id": "284615ac",
   "metadata": {},
   "source": [
    "I went with the incredibly simple [`Turnigy TGY-i4X Mode 2 AFHDS/AFHDS 2A Switchable 4CH Transmitter/Receiver `](https://hobbyking.com/en_us/turnigy-tgy-i4x-mode-2-afhds-afhds-2a-switchable-4ch-transmitter-receiver.html). It has no special qualifications except for having 4 channels and being the cheapest option. On the receiving end I'll be using the [`FS-A8S 2.4Ghz 8CH Mini Receiver with PPM i-BUS SBUS Output`](https://hobbyking.com/en_us/fs-a8s-2-4g-8ch-mini-receiver-with-ppm-i-bus-sbus-output.html) for SBus output.\n",
    "\n",
    "I was considering using a completely digital system (using the 2-way telemetry connection for control) as I do plan on flying autonomously for the most part, but decided against it for safety/redundancy reasons."
   ]
  },
  {
   "cell_type": "markdown",
   "id": "8df83637",
   "metadata": {},
   "source": [
    "## BOM\n",
    "\n",
    "Also available as [iteration_5-bom-and-receipt](iteration_5-bom-and-receipt).\n",
    "\n",
    "|Part             |Name                                                                                |Store    |Link                                                                                                              |Price pp|#  |Price total|\n",
    "|-----------------|------------------------------------------------------------------------------------|---------|------------------------------------------------------------------------------------------------------------------|--------|---|-----------|\n",
    "|Flight controller|Pixhawk 2.4.8                                                                       |second hand|https://www.2dehands.be/a/hobby-en-vrije-tijd/modelbouw-radiografisch-helikopters-en-quadcopters/m1658504570-pixhawk-2-4-8-px4-32bit-apm-flight-controller-with-power-mod.html?previousPage=lr|40      |1  |40         |\n",
    "|Servo            |HXT12K Metal Gear Servo 25T 11kg / 0.16sec / 55g                                    |HobbyKing|https://hobbyking.com/en_us/hxt-10kg-servo-metal-gear-10kg-0-16sec-55g.html                                       |8.88    |4  |35.52      |\n",
    "|Control horns    |Control Horns 16x20mm (10pcs)                                                       |HobbyKing|https://hobbyking.com/en_us/control-horns-16x20mm-10pcs.html                                                      |1.22    |1  |1.22       |\n",
    "|Linkage holders  |Nylon Arm 2.8 x 6 x 6mm (10pcs)                                                     |HobbyKing|https://hobbyking.com/en_us/nylon-arm-2-8-x-6-x-6mm-10pcs.html                                                    |0.48    |1  |0.48       |\n",
    "|Motor            |PROPDRIVE v2 4258 500KV Brushless Outrunner Motor                                   |HobbyKing|https://hobbyking.com/en_us/propdrive-v2-4258-500kv-brushless-outrunner-motor.html                                |46.1    |1  |46.1       |\n",
    "|Prop             |TGS Precision Sport Propeller 17x10                                                 |HobbyKing|https://hobbyking.com/en_us/tgs-precision-sport-propeller-17x10-1pc.html                                          |6.14    |3  |18.42      |\n",
    "|ESC              |YEP 80A (2~6S) SBEC                                                                 |HobbyKing|https://hobbyking.com/en_us/yep-80a-2-6s-sbec-brushless-speed-controller.html                                     |43.49   |1  |43.49      |\n",
    "|ESC programmer   |YEP ESC Programming Card                                                            |HobbyKing|https://hobbyking.com/en_us/yep-esc-programming-card.html                                                         |5.92    |1  |5.92       |\n",
    "|Battery          |Turnigy nano-tech 4000mAh 6S 35~70C                                                 |HobbyKing|https://hobbyking.com/en_us/turnigy-nano-tech-4000mah-6s-35-70c-lipo-pack-w-xt-90.html                            |63.39   |1  |63.39      |\n",
    "|Radio transmitter|Turnigy TGY-i4X Mode 2 AFHDS/AFHDS 2A Switchable 4CH Transmitter/Receiver           |HobbyKing|https://hobbyking.com/en_us/turnigy-tgy-i4x-mode-2-afhds-afhds-2a-switchable-4ch-transmitter-receiver.html        |31.49   |1  |31.49      |\n",
    "|Radio receiver   |FS-A8S 2.4Ghz 8CH Mini Receiver with PPM i-BUS SBUS Output                          |HobbyKing|https://hobbyking.com/en_us/fs-a8s-2-4g-8ch-mini-receiver-with-ppm-i-bus-sbus-output.html                         |7.59    |1  |7.59       |\n",
    "|FPV goggles      |Quanum Cyclops Diversity DVR FPV Goggle                                             |HobbyKing|https://hobbyking.com/en_us/quanum-cyclops-diversity-fpv-goggle.html                                              |26.09   |1  |26.09      |\n",
    "|FPV Cam          |CADDX Baby Ratel Starlight 1.8mm 1200TVL 14x14mm 4.6g FPV Camera w/160° FOV (Yellow)|HobbyKing|https://hobbyking.com/en_us/caddx-baby-ratel-starlight-1-8mm-1200tvl-14x14mm-4-6g-fpv-camera-w-160-fov-yellow.html|25.51   |1  |25.51      |\n",
    "|FPV OSD          |Micro OSD V2                                                                        |Holybro  |https://shop.holybro.com/micro-osd-v2_p1207.html                                                                  |13.17   |1  |13.17      |\n",
    "|FPV VTX          |Atlatl HV micro                                                                     |Holybro  |https://shop.holybro.com/atlatl-hv-micro_p1186.html                                                               |17.29   |1  |17.29      |\n",
    "|Telemetry        |Transceiver Telemetry Radio V3                                                      |Holybro  |https://shop.holybro.com/transceiver-telemetry-radio-v3_p1103.html                                                |37.05   |1  |37.05      |\n",
    "|GPS              |Pixhawk4 2nd GPS Module                                                             |Holybro  |https://shop.holybro.com/pixhawk4-2nd-gps-module_p1145.html                                                       |34.58   |1  |34.58      |\n",
    "|Charger          |Turnigy P606 LiPoly/LiFe AC/DC Charger (EU Plug)                                    |HobbyKing|https://hobbyking.com/en_us/pd606-charger-eu-plug.html                                                            |43.15   |1  |43.15      |\n",
    "|                 |                                                                                    |         |                                                                                                                  |        |   |           |\n",
    "|Total            |                                                                                    |         |                                                                                                                  |        |   |490.46     |\n"
   ]
  },
  {
   "cell_type": "markdown",
   "id": "253b6a73",
   "metadata": {},
   "source": [
    "## Receipt\n",
    "|Name             |Link                                                                                |Price w/o fees|Paid                                                                                                              |Fees (shipping/conversion/handling/service…)|\n",
    "|-----------------|------------------------------------------------------------------------------------|--------------|------------------------------------------------------------------------------------------------------------------|--------------------------------------------|\n",
    "|Second hand: Flight controller|https://www.2dehands.be/a/hobby-en-vrije-tijd/modelbouw-radiografisch-helikopters-en-quadcopters/m1658504570-pixhawk-2-4-8-px4-32bit-apm-flight-controller-with-power-mod.html?previousPage=lr|40            |40                                                                                                                |0                                           |\n",
    "|HobbyKing        |https://hobbyking.com/                                                              |348.37        |397.59                                                                                                            |49.22                                       |\n",
    "|Holybro          |https://shop.holybro.com/                                                           |102.09        |147.84                                                                                                            |45.75                                       |\n",
    "|                 |                                                                                    |              |                                                                                                                  |                                            |\n",
    "|Total            |                                                                                    |              |585.43                                                                                                            |94.97                                       |\n"
   ]
  }
 ],
 "metadata": {
  "kernelspec": {
   "display_name": "Python 3",
   "language": "python",
   "name": "python3"
  },
  "language_info": {
   "codemirror_mode": {
    "name": "ipython",
    "version": 3
   },
   "file_extension": ".py",
   "mimetype": "text/x-python",
   "name": "python",
   "nbconvert_exporter": "python",
   "pygments_lexer": "ipython3",
   "version": "3.9.5"
  }
 },
 "nbformat": 4,
 "nbformat_minor": 5
}
