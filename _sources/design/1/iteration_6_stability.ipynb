{
 "cells": [
  {
   "cell_type": "markdown",
   "id": "45a49fa9",
   "metadata": {},
   "source": [
    "# Iteration 6: Stability"
   ]
  },
  {
   "cell_type": "code",
   "execution_count": 1,
   "id": "d4f41bb2",
   "metadata": {},
   "outputs": [],
   "source": [
    "from unyt import km, m, mm, inch, g, kg, hr, minute, s, degree, radian, volt\n",
    "from IPython.display import Video"
   ]
  },
  {
   "cell_type": "markdown",
   "id": "9e37e316",
   "metadata": {},
   "source": [
    "I said in [Iteration 3: Propulsion](iteration_3_propulsion.ipynb#Stability-and-Control,-Center-of-Mass,-Aerodynamic-Center-and-Static-Margin) that I wasn't goin to think too much about stability. I've changed my mind about that.\n",
    "\n",
    "In this iteration I'll be using [MIT OpenCourseWare's Unified Engineering labs 6: S/L8 \"Aircraft Design for Stability and Control / Basic  Aircraft  Design  Rules\"](https://ocw.mit.edu/courses/aeronautics-and-astronautics/16-01-unified-engineering-i-ii-iii-iv-fall-2005-spring-2006/systems-labs-06/spl8.pdf) notes. Bit of a mouthful... It's contents describe the basic criteria for stable flight.\n",
    "\n",
    "Also worth mentioning: because I'll be using a single 4000mAh 6S LiPo, I'm not going to put a batteries in the wing. This means I'll be extending the fuselage forward for a more traditional design.\n",
    "\n"
   ]
  },
  {
   "cell_type": "markdown",
   "id": "82f267a2",
   "metadata": {},
   "source": [
    "## Center  of  Gravity  Position"
   ]
  },
  {
   "cell_type": "markdown",
   "id": "1702f3bb",
   "metadata": {},
   "source": [
    "I'll b using the following data from iteration 5:"
   ]
  },
  {
   "cell_type": "code",
   "execution_count": 2,
   "id": "7deff4fe",
   "metadata": {},
   "outputs": [
    {
     "name": "stdout",
     "output_type": "stream",
     "text": [
      "AR: 13.26086956521739 dimensionless\n"
     ]
    }
   ],
   "source": [
    "b = 3050*mm # wingspan\n",
    "c = 230*mm # chord\n",
    "S = b*c # wing area\n",
    "AR = b**2/S\n",
    "print(f\"AR: {AR}\")"
   ]
  },
  {
   "cell_type": "markdown",
   "id": "2ec79e84",
   "metadata": {},
   "source": [
    "As a starting point I'll assume the Center of Gravity (GC) can be placed at 33% cord length. Once I've calculated the neutral point I'll come back to this."
   ]
  },
  {
   "cell_type": "code",
   "execution_count": 3,
   "id": "11834ca9",
   "metadata": {},
   "outputs": [],
   "source": [
    "xcg = (1/3)*c"
   ]
  },
  {
   "cell_type": "markdown",
   "id": "49cf0d54",
   "metadata": {},
   "source": [
    "## Horizontal Tail Sizing"
   ]
  },
  {
   "cell_type": "markdown",
   "id": "61790e85",
   "metadata": {},
   "source": [
    "...and assuming a 1/2 horizontal stabilizer (HS) cord center of lift and 1/3 cord CG:  "
   ]
  },
  {
   "cell_type": "code",
   "execution_count": 4,
   "id": "7ad6ef20",
   "metadata": {},
   "outputs": [
    {
     "name": "stdout",
     "output_type": "stream",
     "text": [
      "ARh: 5.333333333333333 dimensionless\n",
      "Vh: 0.36164740153088104 dimensionless\n"
     ]
    }
   ],
   "source": [
    "ch = 75*mm # Horizontal stabilizer cord\n",
    "bh = 400*mm # ..wingspan\n",
    "lh = 1945*mm # ..moment arm\n",
    "xhscl = (1/2)*ch\n",
    "Sh = ch*bh # HS area\n",
    "ARh = bh**2/Sh # = bh/ch\n",
    "print(f\"ARh: {ARh}\")\n",
    "\n",
    "Vh = (Sh*lh)/(S*c)\n",
    "print(f\"Vh: {Vh}\")"
   ]
  },
  {
   "cell_type": "markdown",
   "id": "d3762bd9",
   "metadata": {},
   "source": [
    "> A  well-behaved  aircraft  typically  has  a  Vh which  falls  in  the  following  range:  \n",
    "Vh = 0.30 . . . 0.60 \n",
    "\n",
    "> If  Vh is  too  small,  the  aircraft’s  pitch  behavior  will  be  very  sensitive  to  the  CG  location.  It  will also  show  poor  tendency  to  resist  gusts  or  other  upsets,  and  generally  “wander”  in  pitch  attitude, making  precise  pitch  control  difficult. "
   ]
  },
  {
   "cell_type": "markdown",
   "id": "f2cdb010",
   "metadata": {},
   "source": [
    ".36, not great, not terrible\n",
    "\n",
    "{include-in-output}`3.6-roentgen.mp4`"
   ]
  },
  {
   "cell_type": "code",
   "execution_count": 5,
   "id": "b1ff8461",
   "metadata": {
    "scrolled": true
   },
   "outputs": [
    {
     "data": {
      "text/html": [
       "<video src=\"3.6-roentgen.mp4\" controls  width=\"600\" >\n",
       "      Your browser does not support the <code>video</code> element.\n",
       "    </video>"
      ],
      "text/plain": [
       "<IPython.core.display.Video object>"
      ]
     },
     "execution_count": 5,
     "metadata": {},
     "output_type": "execute_result"
    }
   ],
   "source": [
    "Video(\"3.6-roentgen.mp4\", width=600)"
   ]
  },
  {
   "cell_type": "markdown",
   "id": "8f894dac",
   "metadata": {},
   "source": [
    "Should probably increase it a bit (maybe by 25% to get get above 0.45)."
   ]
  },
  {
   "cell_type": "markdown",
   "id": "f459cfb1",
   "metadata": {},
   "source": [
    "Approximate NP (neutral point) location xnp:"
   ]
  },
  {
   "cell_type": "code",
   "execution_count": 6,
   "id": "82b2b6cb",
   "metadata": {},
   "outputs": [
    {
     "name": "stdout",
     "output_type": "stream",
     "text": [
      "xnp ratio of c: 0.47334826109448147 dimensionless\n",
      "xnp: 108.87010005173074 mm\n"
     ]
    }
   ],
   "source": [
    "xnpr = .25+((1+2/AR)/(1+2/ARh))*(1-4/(AR+2))*Vh\n",
    "xnp = xnpr*c\n",
    "print(f\"xnp ratio of c: {xnpr}\")\n",
    "print(f\"xnp: {xnp}\")"
   ]
  },
  {
   "cell_type": "markdown",
   "id": "eb2ed13e",
   "metadata": {},
   "source": [
    "So my 33% cord CG assumption may have been a little too far forward. We can check by calculating the Static Margin (SM)."
   ]
  },
  {
   "cell_type": "code",
   "execution_count": 7,
   "id": "6772a2bb",
   "metadata": {
    "scrolled": true
   },
   "outputs": [
    {
     "name": "stdout",
     "output_type": "stream",
     "text": [
      "S.M.: 0.1400149277611482 dimensionless\n"
     ]
    }
   ],
   "source": [
    "SM = (xnp-xcg)/c\n",
    "print(f\"S.M.: {SM}\")"
   ]
  },
  {
   "cell_type": "markdown",
   "id": "f3fcf873",
   "metadata": {},
   "source": [
    "Please do read the Lab 8 notes document linked at the top. It is really insightful and has some nice illustrations.  \n",
    "Criterea given there:"
   ]
  },
  {
   "cell_type": "markdown",
   "id": "a3df4453",
   "metadata": {},
   "source": [
    "> In  general,  the  small  positive  S.M.  suggested  by  rule  (2)  is  the  ideal situation. \n",
    "> S.M. = +0.05 ... +0.15 &nbsp; &nbsp; (2)"
   ]
  },
  {
   "cell_type": "markdown",
   "id": "52704b7d",
   "metadata": {},
   "source": [
    "Like I said, maybe a little bit too far forward.  \n",
    "\n",
    "It doesn't matter that much as I have quite a bit of room for CG tuning by shifting the battery. If I want to shift it forward I can 3D print a more extended fuselage."
   ]
  },
  {
   "cell_type": "markdown",
   "id": "a2d4887e",
   "metadata": {},
   "source": [
    "## Vertical Tail Sizing"
   ]
  },
  {
   "cell_type": "code",
   "execution_count": 8,
   "id": "5e1cc455",
   "metadata": {},
   "outputs": [
    {
     "name": "stdout",
     "output_type": "stream",
     "text": [
      "ARv: 1.3333333333333333 dimensionless\n",
      "Vv: 0.09041185038272026 dimensionless\n"
     ]
    }
   ],
   "source": [
    "cv = 75*mm # Vertical stabilizer cord\n",
    "bv = 100*mm # ..wingspan (height?)\n",
    "lv = lh # ..moment arm\n",
    "xvscl = (1/2)*ch\n",
    "Sv = cv*bv # VS area\n",
    "ARv = bv**2/Sv # = bv/cv\n",
    "print(f\"ARv: {ARv}\")\n",
    "\n",
    "Vv = (Sv*lv)/(S*c)\n",
    "print(f\"Vv: {Vv}\")"
   ]
  },
  {
   "cell_type": "markdown",
   "id": "720ce0b2",
   "metadata": {},
   "source": [
    "> Most  well-behaved  aircraft  typically  have  a  Vv which  falls  in  the  following  range:  Vv = 0.02 . . . 0.05 "
   ]
  },
  {
   "cell_type": "markdown",
   "id": "dc4762c4",
   "metadata": {},
   "source": [
    "So yeah, vertical tail size could be smaller if necessary."
   ]
  },
  {
   "cell_type": "markdown",
   "id": "f56c9cd9",
   "metadata": {},
   "source": [
    "## Dihedral Angle"
   ]
  },
  {
   "cell_type": "markdown",
   "id": "3a8d36d3",
   "metadata": {},
   "source": [
    "Because I'll be 3D printing the fuselage and the wings will be detachable, adding dihedral is fairly trivial. As a starting point I'll pick 2° dihedral."
   ]
  },
  {
   "cell_type": "code",
   "execution_count": 9,
   "id": "809b75f8",
   "metadata": {},
   "outputs": [],
   "source": [
    "Υ = 2*degree # Dehedral angle (Upsilon)\n",
    "CL = 0.1*(s**2/m) # From iteration 5"
   ]
  },
  {
   "cell_type": "markdown",
   "id": "3ac687c8",
   "metadata": {},
   "source": [
    "### Spiral Stability"
   ]
  },
  {
   "cell_type": "code",
   "execution_count": 10,
   "id": "8cfd27b4",
   "metadata": {
    "scrolled": false
   },
   "outputs": [
    {
     "name": "stdout",
     "output_type": "stream",
     "text": [
      "B = 12.754098360655737 degree*m/s**2\n"
     ]
    }
   ],
   "source": [
    "B = (lv/b)*(Υ/CL)\n",
    "print(f\"B = {B}\")"
   ]
  },
  {
   "cell_type": "markdown",
   "id": "ce314f8b",
   "metadata": {},
   "source": [
    "> The dihedral  angle of  the  wing,  denoted  by  Υ  in  Figure  1,  provides  some  degree  of  natural  spiral stability.  A  spirally-unstable  aircraft  tends  to  constantly  increase  its  bank  angle  at  some  rate,  and therefore  requires  constant  attention  by  the  pilot.  Conversely,  a  spirally-stable  aircraft  will  tend  to roll  upright  with  no  control  input  from  the  pilot,  and  thus  make  the  aircraft  easier  to  fly. \n",
    "\n",
    "> B > 5: spirally stable  \n",
    "B = 5: spirally neutral  \n",
    "B < 5: spirally unstable "
   ]
  },
  {
   "cell_type": "markdown",
   "id": "c27359a6",
   "metadata": {},
   "source": [
    "So excellent, although as I should probably say more often: I have no idea what I'm doing and have a hunch these units aren't correct, which would make this metric useless. Please help.\n",
    "\n",
    "I guess I'll just have to see how the plane behaves in-flight."
   ]
  },
  {
   "cell_type": "markdown",
   "id": "a12166b7",
   "metadata": {},
   "source": [
    "### Roll Control"
   ]
  },
  {
   "cell_type": "markdown",
   "id": "762541fa",
   "metadata": {},
   "source": [
    "Lakehopper has ailerons, so this might be of less interest."
   ]
  },
  {
   "cell_type": "markdown",
   "id": "dfa21a52",
   "metadata": {},
   "source": [
    "> A criterion for adequate roll authority is obtained by the product of Vv and B"
   ]
  },
  {
   "cell_type": "code",
   "execution_count": 11,
   "id": "46996e51",
   "metadata": {},
   "outputs": [
    {
     "name": "stdout",
     "output_type": "stream",
     "text": [
      "VvB = 1.1531216327501042 degree*m/s**2\n"
     ]
    }
   ],
   "source": [
    "VvB = Vv * B\n",
    "print(f\"VvB = {VvB}\")"
   ]
  },
  {
   "cell_type": "markdown",
   "id": "32505412",
   "metadata": {},
   "source": [
    "> VvB = 0.10 . . . 0.20  \n",
    "\n",
    "> The 0.10 value will likely give marginal roll control, while 0.20 will give very effective control. "
   ]
  },
  {
   "cell_type": "markdown",
   "id": "6812e7db",
   "metadata": {},
   "source": [
    "Excellent, but again, probably wrong."
   ]
  },
  {
   "cell_type": "markdown",
   "id": "1128c260",
   "metadata": {},
   "source": [
    "### Steady Sideslip in Turns"
   ]
  },
  {
   "cell_type": "markdown",
   "id": "a85dc15a",
   "metadata": {},
   "source": [
    "As noted in the lab notes, for an airplane with ailerons, the inward rolling moment can be cancelled."
   ]
  },
  {
   "cell_type": "markdown",
   "id": "625a777b",
   "metadata": {},
   "source": [
    "## Conclusion"
   ]
  },
  {
   "cell_type": "markdown",
   "id": "f1d79f0b",
   "metadata": {},
   "source": [
    "According to these criterea, and if my calculations are correct, the plane should be pretty stable provided that I:\n",
    "\n",
    "- Increase the horizontal stabilizer slightly (~25%, 70 🠖 88mm wing span )\n",
    "- Use my proposed 2° dihedral\n",
    "- Put the CG no further than ~30% cord length forward or ~47% backward\n",
    "\n",
    "{include-in-output}`iteration_6-freecad.FCStd`\n",
    "\n",
    "I implemented the first two changes in the [FreeCAD model for iteration 6](iteration_6-freecad.FCStd), which now looks like this:\n",
    "\n",
    "![Iteration 6 FreeCAD model screenshot 1](iteration_6-freecad-screenshot-1.png)\n",
    "![Iteration 6 FreeCAD model screenshot 2](iteration_6-freecad-screenshot-2.png)\n",
    "![Iteration 6 FreeCAD model screenshot 3](iteration_6-freecad-screenshot-3.png)\n"
   ]
  }
 ],
 "metadata": {
  "kernelspec": {
   "display_name": "Python 3.10.5 ('env-lakehopper': venv)",
   "language": "python",
   "name": "python3"
  },
  "language_info": {
   "codemirror_mode": {
    "name": "ipython",
    "version": 3
   },
   "file_extension": ".py",
   "mimetype": "text/x-python",
   "name": "python",
   "nbconvert_exporter": "python",
   "pygments_lexer": "ipython3",
   "version": "3.10.6"
  },
  "vscode": {
   "interpreter": {
    "hash": "bc7266df71ead11ac75b3b9616f2cc2257ad5eade66b91d0bee2f482b78072e0"
   }
  }
 },
 "nbformat": 4,
 "nbformat_minor": 5
}
