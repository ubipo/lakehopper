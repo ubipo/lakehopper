{
 "cells": [
  {
   "cell_type": "markdown",
   "id": "2392841c",
   "metadata": {},
   "source": [
    "# Iteration 4: Propulsion Weight"
   ]
  },
  {
   "cell_type": "code",
   "execution_count": 1,
   "id": "dc259144",
   "metadata": {},
   "outputs": [],
   "source": [
    "from unyt import km, m, mm, inch, g, kg, hr, minute, s, degree, radian, volt\n",
    "import numpy as np\n",
    "from matplotlib import pyplot as plt\n",
    "from math import pi as π\n",
    "%matplotlib inline"
   ]
  },
  {
   "cell_type": "code",
   "execution_count": 2,
   "id": "299990ac",
   "metadata": {},
   "outputs": [],
   "source": [
    "rpm = minute**-1"
   ]
  },
  {
   "cell_type": "code",
   "execution_count": 3,
   "id": "19674875",
   "metadata": {},
   "outputs": [],
   "source": [
    "ρ = 1.225*kg/m**3 # air density\n",
    "μinf = 1.81e-5*kg/(m*s) # viscosity of air"
   ]
  },
  {
   "cell_type": "markdown",
   "id": "3df48cd3",
   "metadata": {},
   "source": [
    "Goals:\n",
    "- Use more accurate weight estimate with new power system components"
   ]
  },
  {
   "cell_type": "markdown",
   "id": "dcbf7f78",
   "metadata": {},
   "source": [
    "## Initial Design"
   ]
  },
  {
   "cell_type": "code",
   "execution_count": 4,
   "id": "d6af5fd7",
   "metadata": {
    "scrolled": true
   },
   "outputs": [],
   "source": [
    "b = 3050*mm # wingspan\n",
    "c = 230*mm # chord"
   ]
  },
  {
   "cell_type": "code",
   "execution_count": 5,
   "id": "5b7f0715",
   "metadata": {},
   "outputs": [],
   "source": [
    "S = b*c # wing area\n",
    "AR = b**2/S"
   ]
  },
  {
   "cell_type": "code",
   "execution_count": 6,
   "id": "f89ae7c2",
   "metadata": {
    "scrolled": true
   },
   "outputs": [
    {
     "data": {
      "text/plain": [
       "unyt_quantity(13.26086957, '(dimensionless)')"
      ]
     },
     "execution_count": 6,
     "metadata": {},
     "output_type": "execute_result"
    }
   ],
   "source": [
    "AR"
   ]
  },
  {
   "cell_type": "markdown",
   "id": "ec9d05bc",
   "metadata": {},
   "source": [
    "## Weight Estimate"
   ]
  },
  {
   "cell_type": "markdown",
   "id": "95fd30f4",
   "metadata": {},
   "source": [
    "Weight estimate increased from 2340 to 3047 (increased weight of battery, ESC, motor, and future expansion + added prop weight estimate)."
   ]
  },
  {
   "cell_type": "code",
   "execution_count": 7,
   "id": "d81035dc",
   "metadata": {},
   "outputs": [],
   "source": [
    "W = 3047*g # weight"
   ]
  },
  {
   "cell_type": "markdown",
   "id": "5e2ba7c9",
   "metadata": {},
   "source": [
    "![iteration_3-weight-tabulation](iteration_3-weight-tabulation.png)"
   ]
  },
  {
   "cell_type": "markdown",
   "id": "7aa76215",
   "metadata": {},
   "source": [
    "## Airfoil Selection"
   ]
  },
  {
   "cell_type": "markdown",
   "id": "1c410cb5",
   "metadata": {},
   "source": [
    "Cruise speed lowered from 45 to 30."
   ]
  },
  {
   "cell_type": "code",
   "execution_count": 8,
   "id": "308185f7",
   "metadata": {
    "scrolled": false
   },
   "outputs": [],
   "source": [
    "V = 30*km/hr # cruise speed"
   ]
  },
  {
   "cell_type": "code",
   "execution_count": 9,
   "id": "b6a97d00",
   "metadata": {
    "scrolled": true
   },
   "outputs": [],
   "source": [
    "CL = (2*W)/(ρ*V**2*S)"
   ]
  },
  {
   "cell_type": "code",
   "execution_count": 10,
   "id": "7302161d",
   "metadata": {},
   "outputs": [
    {
     "data": {
      "text/plain": [
       "130000.0"
      ]
     },
     "execution_count": 10,
     "metadata": {},
     "output_type": "execute_result"
    }
   ],
   "source": [
    "Re = (ρ*V*c)/μinf\n",
    "round(Re.to_value(), -3)"
   ]
  },
  {
   "cell_type": "markdown",
   "id": "0ec6add4",
   "metadata": {},
   "source": [
    "![clarky-cl-v-alpha](clarky-cl-v-alpha.png)"
   ]
  },
  {
   "cell_type": "markdown",
   "id": "e9f0c6d8",
   "metadata": {},
   "source": [
    "From bottom left up: Blue = 50,000  Orange = 100,000  Green = 200,000"
   ]
  },
  {
   "cell_type": "code",
   "execution_count": 11,
   "id": "71de7c81",
   "metadata": {},
   "outputs": [],
   "source": [
    "α0 = -3.75*degree\n",
    "Clα = 1.05\n",
    "e = 0.8"
   ]
  },
  {
   "cell_type": "code",
   "execution_count": 12,
   "id": "5ce06011",
   "metadata": {
    "scrolled": false
   },
   "outputs": [],
   "source": [
    "CLα = Clα/(1+(Clα/(π*e*AR)))"
   ]
  },
  {
   "cell_type": "code",
   "execution_count": 13,
   "id": "75b67c7f",
   "metadata": {},
   "outputs": [],
   "source": [
    "CL_unitless = CL.to_value('s**2/m')"
   ]
  },
  {
   "cell_type": "code",
   "execution_count": 14,
   "id": "acc3e802",
   "metadata": {},
   "outputs": [
    {
     "data": {
      "text/plain": [
       "unyt_quantity(1.99785477, 'degree')"
      ]
     },
     "execution_count": 14,
     "metadata": {},
     "output_type": "execute_result"
    }
   ],
   "source": [
    "α = α0+((CL_unitless/CLα)*radian)\n",
    "α"
   ]
  },
  {
   "cell_type": "markdown",
   "id": "10b72190",
   "metadata": {},
   "source": [
    "![clarky-cl-cd-v-alpha](clarky-cl-cd-v-alpha.png)"
   ]
  },
  {
   "cell_type": "markdown",
   "id": "a07294ce",
   "metadata": {},
   "source": [
    "By increasing the weight our cruise angle of attack increased to 2° which is a lot closer to the optimal. That's a nice consequence."
   ]
  },
  {
   "cell_type": "code",
   "execution_count": 15,
   "id": "3613cdca",
   "metadata": {
    "scrolled": true
   },
   "outputs": [
    {
     "name": "stdout",
     "output_type": "stream",
     "text": [
      "Cruise speed: 8.33 m/s, Stall speed: 2.25 m/s\n"
     ]
    }
   ],
   "source": [
    "CLmax = 1.4*s**2/m\n",
    "Vstall = np.sqrt((2*W)/(ρ*S*CLmax))\n",
    "print(f\"Cruise speed: {V.to('m/s'):.2f}, Stall speed: {Vstall:.2f}\")"
   ]
  },
  {
   "cell_type": "markdown",
   "id": "7a0d8c2b",
   "metadata": {},
   "source": [
    "Worse than the 1.97 m/s of iteration 3 but still OK."
   ]
  },
  {
   "cell_type": "markdown",
   "id": "7590ba2a",
   "metadata": {},
   "source": [
    "## Wing Loading and Thrust to Weight Ratio"
   ]
  },
  {
   "cell_type": "code",
   "execution_count": 16,
   "id": "910a599c",
   "metadata": {
    "scrolled": true
   },
   "outputs": [
    {
     "name": "stdout",
     "output_type": "stream",
     "text": [
      "Wing loading: 5.19 kg/m**3\n"
     ]
    }
   ],
   "source": [
    "WCL = W/(S**(3/2))\n",
    "print(f\"Wing loading: {WCL.to('kg/m**3'):.2f}\")"
   ]
  },
  {
   "cell_type": "markdown",
   "id": "b72cb135",
   "metadata": {},
   "source": [
    "| Type of Aircraft | WCL (kg/m^3) |\n",
    "| --- | --- |\n",
    "| Gliders | under 4 |\n",
    "| Trainers | 5-7 |\n",
    "| Sport Aerobatic | 8-10 |\n",
    "| Racers | 11-13 |\n",
    "| Scale | over 15 |\n",
    "\n",
    "This could probably be a bit lower. Although my eventual vision is more like a glider-with-enough-power-for-autonomous-takeoffs type design, so I guess it's not surprising I won't have the most incredible glide slope."
   ]
  },
  {
   "cell_type": "code",
   "execution_count": 17,
   "id": "08f66732",
   "metadata": {},
   "outputs": [
    {
     "name": "stdout",
     "output_type": "stream",
     "text": [
      "Required thrust: 3.35 kg\n"
     ]
    }
   ],
   "source": [
    "TtoW = 1.1\n",
    "T = TtoW*W\n",
    "print(f\"Required thrust: {T.to('kg'):.2f}\")"
   ]
  },
  {
   "cell_type": "markdown",
   "id": "93105950",
   "metadata": {},
   "source": [
    "## Propulsion system"
   ]
  },
  {
   "cell_type": "markdown",
   "id": "f8568b7e",
   "metadata": {},
   "source": [
    "Refer back to iteration 3 for kv and prop pitch Y estimates as we did not change the airspeed, so the required kv ratings and pitch Y estimates stay the same. \n",
    "\n",
    "Increasing the weight did increase the required thrust from 2.6 to 3.35kg."
   ]
  },
  {
   "cell_type": "markdown",
   "id": "d3b9dd74",
   "metadata": {},
   "source": [
    "### Propulsion system component selection\n",
    "\n",
    "Looking back at the options I outlined in iteration 3, I couldn't find anything which can sustain the 3.35kg required thrust. I decided to forgo that requirement. A 16x10 inch prop at full throttle may not be sustainable continuously for the [`PROPDRIVE v2 4258 500KV`](https://hobbyking.com/en_us/propdrive-v2-4258-500kv-brushless-outrunner-motor.html), but I think it'll be fine because:\n",
    "\n",
    "- This would only occur at takeoff\n",
    "- The manufacturer published the 16x10 test results so at least it's not *completely* fatal to run it like that\n",
    "- rcplanes.online's excellent [Electric Motor & Prop Combo Estimator](https://rcplanes.online/calc_motor.htm) indicates the 16x10/500Kv/6S combination should be able to generate 3.5kg of thrust @ 46.7A (below the Propdrive's 60A max). I probably chose a bunch of paramters wrong, but still, it indicates the current draw will not be completely ludicrous.\n",
    "\n",
    "In conclusion, I will be keeping the selction I made in iteration 3:  \n",
    "Motor: [`PROPDRIVE v2 4258 500KV Brushless Outrunner Motor`](https://hobbyking.com/en_us/propdrive-v2-4258-500kv-brushless-outrunner-motor.html) - €46.10  \n",
    "Prop: [`TGS Precision Sport Propeller 17x10`](https://hobbyking.com/en_us/tgs-precision-sport-propeller-17x10-1pc.html) - €6.14 * 3 = €18.42  \n",
    "ESC: [`YEP 80A (2~6S) SBEC`](https://hobbyking.com/en_us/yep-80a-2-6s-sbec-brushless-speed-controller.html) - €43.49  \n",
    "Battery: [`Turnigy nano-tech 4000mAh 6S 35~70C`](https://hobbyking.com/en_us/turnigy-nano-tech-4000mah-6s-35-70c-lipo-pack-w-xt-90.html) - €63.39  \n",
    "Total power system: €171.40"
   ]
  }
 ],
 "metadata": {
  "kernelspec": {
   "display_name": "Python 3",
   "language": "python",
   "name": "python3"
  },
  "language_info": {
   "codemirror_mode": {
    "name": "ipython",
    "version": 3
   },
   "file_extension": ".py",
   "mimetype": "text/x-python",
   "name": "python",
   "nbconvert_exporter": "python",
   "pygments_lexer": "ipython3",
   "version": "3.9.7"
  }
 },
 "nbformat": 4,
 "nbformat_minor": 5
}
