{
 "cells": [
  {
   "cell_type": "markdown",
   "id": "45a49fa9",
   "metadata": {},
   "source": [
    "# Iteration 7?: Stability 2"
   ]
  },
  {
   "cell_type": "code",
   "execution_count": 16,
   "id": "d4f41bb2",
   "metadata": {},
   "outputs": [],
   "source": [
    "from unyt import km, m, mm, inch, g, kg, hr, minute, s, degree, radian, volt\n",
    "from IPython.display import Video\n",
    "from statistics import mean"
   ]
  },
  {
   "cell_type": "markdown",
   "id": "82f267a2",
   "metadata": {},
   "source": [
    "## Center  of  Gravity  Position"
   ]
  },
  {
   "cell_type": "code",
   "execution_count": 3,
   "id": "7deff4fe",
   "metadata": {
    "scrolled": true
   },
   "outputs": [
    {
     "name": "stdout",
     "output_type": "stream",
     "text": [
      "AR: 13.191489361702128 dimensionless\n"
     ]
    }
   ],
   "source": [
    "b = 3100*mm # wingspan\n",
    "c = 235*mm # chord\n",
    "S = b*c # wing area\n",
    "AR = b**2/S\n",
    "print(f\"AR: {AR}\")"
   ]
  },
  {
   "cell_type": "markdown",
   "id": "2ec79e84",
   "metadata": {},
   "source": [
    "As a starting point I'll assume the Center of Gravity (GC) can be placed at 33% cord length. Once I've calculated the neutral point I'll come back to this."
   ]
  },
  {
   "cell_type": "code",
   "execution_count": 4,
   "id": "11834ca9",
   "metadata": {},
   "outputs": [],
   "source": [
    "xcg = (1/3)*c"
   ]
  },
  {
   "cell_type": "markdown",
   "id": "49cf0d54",
   "metadata": {},
   "source": [
    "## Horizontal Tail Sizing"
   ]
  },
  {
   "cell_type": "markdown",
   "id": "61790e85",
   "metadata": {},
   "source": [
    "...and assuming a 1/2 horizontal stabilizer (HS) cord center of lift and 1/3 cord CG:  "
   ]
  },
  {
   "cell_type": "code",
   "execution_count": 5,
   "id": "7ad6ef20",
   "metadata": {},
   "outputs": [
    {
     "name": "stdout",
     "output_type": "stream",
     "text": [
      "ARh: 2.7027027027027026 dimensionless\n",
      "Vh: 0.5565209772338965 dimensionless\n"
     ]
    }
   ],
   "source": [
    "ch = 185*mm # Horizontal stabilizer cord\n",
    "bh = 500*mm # ..wingspan\n",
    "lh = 1030*mm # ..moment arm\n",
    "xhscl = (1/2)*ch\n",
    "Sh = ch*bh # HS area\n",
    "ARh = bh**2/Sh # = bh/ch\n",
    "print(f\"ARh: {ARh}\")\n",
    "\n",
    "Vh = (Sh*lh)/(S*c)\n",
    "print(f\"Vh: {Vh}\")"
   ]
  },
  {
   "cell_type": "markdown",
   "id": "d3762bd9",
   "metadata": {},
   "source": [
    "> A  well-behaved  aircraft  typically  has  a  Vh which  falls  in  the  following  range:  \n",
    "Vh = 0.30 . . . 0.60 \n",
    "\n",
    "> If  Vh is  too  small,  the  aircraft’s  pitch  behavior  will  be  very  sensitive  to  the  CG  location.  It  will also  show  poor  tendency  to  resist  gusts  or  other  upsets,  and  generally  “wander”  in  pitch  attitude, making  precise  pitch  control  difficult. "
   ]
  },
  {
   "cell_type": "markdown",
   "id": "f2cdb010",
   "metadata": {},
   "source": [
    "~.56 is perfect!"
   ]
  },
  {
   "cell_type": "markdown",
   "id": "f459cfb1",
   "metadata": {},
   "source": [
    "Approximate NP (neutral point) location xnp:"
   ]
  },
  {
   "cell_type": "code",
   "execution_count": 6,
   "id": "82b2b6cb",
   "metadata": {},
   "outputs": [
    {
     "name": "stdout",
     "output_type": "stream",
     "text": [
      "xnp ratio of c: 0.5213478253847141 dimensionless\n",
      "xnp: 122.51673896540782 mm\n"
     ]
    }
   ],
   "source": [
    "xnpr = .25+((1+2/AR)/(1+2/ARh))*(1-4/(AR+2))*Vh\n",
    "xnp = xnpr*c\n",
    "print(f\"xnp ratio of c: {xnpr}\")\n",
    "print(f\"xnp: {xnp}\")"
   ]
  },
  {
   "cell_type": "code",
   "execution_count": 7,
   "id": "6772a2bb",
   "metadata": {
    "scrolled": true
   },
   "outputs": [
    {
     "name": "stdout",
     "output_type": "stream",
     "text": [
      "S.M.: 0.18801449205138085 dimensionless\n"
     ]
    }
   ],
   "source": [
    "SM = (xnp-xcg)/c\n",
    "print(f\"S.M.: {SM}\")"
   ]
  },
  {
   "cell_type": "markdown",
   "id": "a3df4453",
   "metadata": {},
   "source": [
    "> In  general,  the  small  positive  S.M.  suggested  by  rule  (2)  is  the  ideal situation. \n",
    "> S.M. = +0.05 ... +0.15 &nbsp; &nbsp; (2)"
   ]
  },
  {
   "cell_type": "markdown",
   "id": "52704b7d",
   "metadata": {},
   "source": [
    "If we want to achieve a Static Margin of say, .10 I should move the CG back to:"
   ]
  },
  {
   "cell_type": "code",
   "execution_count": 12,
   "id": "304a820a",
   "metadata": {
    "scrolled": true
   },
   "outputs": [
    {
     "name": "stdout",
     "output_type": "stream",
     "text": [
      "Better CG might be: 99.01673896540782 mm\n",
      "Better CG ratio of cord: 0.42134782538471416 dimensionless\n"
     ]
    }
   ],
   "source": [
    "goodSM = 0.10\n",
    "xcgForGoodSm = -((goodSM * c) - xnp)\n",
    "cgForGoodSm = xcgForGoodSm / c\n",
    "print(f\"Better CG might be: {xcgForGoodSm}\")\n",
    "print(f\"Better CG ratio of cord: {cgForGoodSm}\")"
   ]
  },
  {
   "cell_type": "markdown",
   "id": "23ba04d0",
   "metadata": {},
   "source": [
    "I'll aim for a CG of 35% forward to 42% back. If the plane does feel too nose heavy I'll move the CG back."
   ]
  },
  {
   "cell_type": "code",
   "execution_count": 19,
   "id": "e0803535",
   "metadata": {
    "scrolled": true
   },
   "outputs": [
    {
     "name": "stdout",
     "output_type": "stream",
     "text": [
      "Wanted CG: 82.25 mm < cg < 98.7 mm (about: 90.475 mm)\n"
     ]
    }
   ],
   "source": [
    "wantedXcgMin = .35 * c\n",
    "wantedXcgMax = .42 * c\n",
    "wantedXcgAvg = (wantedXcgMin + wantedXcgMax) / 2\n",
    "print(f\"Wanted CG: {wantedXcgMin} < cg < {wantedXcgMax} (about: {wantedXcgAvg})\")"
   ]
  },
  {
   "cell_type": "markdown",
   "id": "a2d4887e",
   "metadata": {},
   "source": [
    "## Vertical Tail Sizing"
   ]
  },
  {
   "cell_type": "code",
   "execution_count": 13,
   "id": "5e1cc455",
   "metadata": {},
   "outputs": [
    {
     "name": "stdout",
     "output_type": "stream",
     "text": [
      "ARv: 1.2432432432432432 dimensionless\n",
      "Vv: 0.2559996495275924 dimensionless\n"
     ]
    }
   ],
   "source": [
    "cv = 185*mm # Vertical stabilizer cord\n",
    "bv = 230*mm # ..wingspan (height?)\n",
    "lv = lh # ..moment arm\n",
    "xvscl = (1/2)*ch\n",
    "Sv = cv*bv # VS area\n",
    "ARv = bv**2/Sv # = bv/cv\n",
    "print(f\"ARv: {ARv}\")\n",
    "\n",
    "Vv = (Sv*lv)/(S*c)\n",
    "print(f\"Vv: {Vv}\")"
   ]
  },
  {
   "cell_type": "markdown",
   "id": "720ce0b2",
   "metadata": {},
   "source": [
    "> Most  well-behaved  aircraft  typically  have  a  Vv which  falls  in  the  following  range:  Vv = 0.02 . . . 0.05 "
   ]
  },
  {
   "cell_type": "markdown",
   "id": "eafd2e62",
   "metadata": {},
   "source": [
    "TODO: Got to here"
   ]
  },
  {
   "cell_type": "markdown",
   "id": "f56c9cd9",
   "metadata": {},
   "source": [
    "## Dihedral Angle"
   ]
  },
  {
   "cell_type": "markdown",
   "id": "3a8d36d3",
   "metadata": {},
   "source": [
    "Because I'll be 3D printing the fuselage and the wings will be detachable, adding dihedral is fairly trivial. As a starting point I'll pick 2° dihedral."
   ]
  },
  {
   "cell_type": "code",
   "execution_count": 9,
   "id": "809b75f8",
   "metadata": {},
   "outputs": [],
   "source": [
    "Υ = 2*degree # Dehedral angle (Upsilon)\n",
    "CL = 0.1*(s**2/m) # From iteration 5"
   ]
  },
  {
   "cell_type": "markdown",
   "id": "3ac687c8",
   "metadata": {},
   "source": [
    "### Spiral Stability"
   ]
  },
  {
   "cell_type": "code",
   "execution_count": 10,
   "id": "8cfd27b4",
   "metadata": {
    "scrolled": false
   },
   "outputs": [
    {
     "name": "stdout",
     "output_type": "stream",
     "text": [
      "B = 12.754098360655737 degree*m/s**2\n"
     ]
    }
   ],
   "source": [
    "B = (lv/b)*(Υ/CL)\n",
    "print(f\"B = {B}\")"
   ]
  },
  {
   "cell_type": "markdown",
   "id": "ce314f8b",
   "metadata": {},
   "source": [
    "> The dihedral  angle of  the  wing,  denoted  by  Υ  in  Figure  1,  provides  some  degree  of  natural  spiral stability.  A  spirally-unstable  aircraft  tends  to  constantly  increase  its  bank  angle  at  some  rate,  and therefore  requires  constant  attention  by  the  pilot.  Conversely,  a  spirally-stable  aircraft  will  tend  to roll  upright  with  no  control  input  from  the  pilot,  and  thus  make  the  aircraft  easier  to  fly. \n",
    "\n",
    "> B > 5: spirally stable  \n",
    "B = 5: spirally neutral  \n",
    "B < 5: spirally unstable "
   ]
  },
  {
   "cell_type": "markdown",
   "id": "c27359a6",
   "metadata": {},
   "source": [
    "So excellent, although as I should probably say more often: I have no idea what I'm doing and have a hunch these units aren't correct, which would make this metric useless. Please help.\n",
    "\n",
    "I guess I'll just have to see how the plane behaves in-flight."
   ]
  },
  {
   "cell_type": "markdown",
   "id": "a12166b7",
   "metadata": {},
   "source": [
    "### Roll Control"
   ]
  },
  {
   "cell_type": "markdown",
   "id": "762541fa",
   "metadata": {},
   "source": [
    "Lakehopper has ailerons, so this might be of less interest."
   ]
  },
  {
   "cell_type": "markdown",
   "id": "dfa21a52",
   "metadata": {},
   "source": [
    "> A criterion for adequate roll authority is obtained by the product of Vv and B"
   ]
  },
  {
   "cell_type": "code",
   "execution_count": 11,
   "id": "46996e51",
   "metadata": {},
   "outputs": [
    {
     "name": "stdout",
     "output_type": "stream",
     "text": [
      "VvB = 1.1531216327501042 degree*m/s**2\n"
     ]
    }
   ],
   "source": [
    "VvB = Vv * B\n",
    "print(f\"VvB = {VvB}\")"
   ]
  },
  {
   "cell_type": "markdown",
   "id": "32505412",
   "metadata": {},
   "source": [
    "> VvB = 0.10 . . . 0.20  \n",
    "\n",
    "> The 0.10 value will likely give marginal roll control, while 0.20 will give very effective control. "
   ]
  },
  {
   "cell_type": "markdown",
   "id": "6812e7db",
   "metadata": {},
   "source": [
    "Excellent, but again, probably wrong."
   ]
  },
  {
   "cell_type": "markdown",
   "id": "1128c260",
   "metadata": {},
   "source": [
    "### Steady Sideslip in Turns"
   ]
  },
  {
   "cell_type": "markdown",
   "id": "a85dc15a",
   "metadata": {},
   "source": [
    "As noted in the lab notes, for an airplane with ailerons, the inward rolling moment can be cancelled."
   ]
  },
  {
   "cell_type": "markdown",
   "id": "625a777b",
   "metadata": {},
   "source": [
    "## Conclusion"
   ]
  },
  {
   "cell_type": "markdown",
   "id": "f1d79f0b",
   "metadata": {},
   "source": [
    "According to these criterea, and if my calculations are correct, the plane should be pretty stable provided that I:\n",
    "\n",
    "- Increase the horizontal stabilizer slightly (~25%, 70 🠖 88mm wing span )\n",
    "- Use my proposed 2° dihedral\n",
    "- Put the CG no further than ~30% cord length forward or ~47% backward\n",
    "\n",
    "I implemented the first two changes in the [FreeCAD model for iteration 6](iteration_6-freecad.FCStd), which now looks like this:\n",
    "\n",
    "![Iteration 6 FreeCAD model screenshot 1](iteration_6-freecad-screenshot-1.png)\n",
    "![Iteration 6 FreeCAD model screenshot 2](iteration_6-freecad-screenshot-2.png)\n",
    "![Iteration 6 FreeCAD model screenshot 3](iteration_6-freecad-screenshot-3.png)\n"
   ]
  }
 ],
 "metadata": {
  "kernelspec": {
   "display_name": "Python 3",
   "language": "python",
   "name": "python3"
  },
  "language_info": {
   "codemirror_mode": {
    "name": "ipython",
    "version": 3
   },
   "file_extension": ".py",
   "mimetype": "text/x-python",
   "name": "python",
   "nbconvert_exporter": "python",
   "pygments_lexer": "ipython3",
   "version": "3.9.7"
  }
 },
 "nbformat": 4,
 "nbformat_minor": 5
}
