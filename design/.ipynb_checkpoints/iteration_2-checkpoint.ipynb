{
 "cells": [
  {
   "cell_type": "markdown",
   "id": "5bc57e75",
   "metadata": {},
   "source": [
    "# Iteration 2"
   ]
  },
  {
   "cell_type": "code",
   "execution_count": 1,
   "id": "449fce55",
   "metadata": {},
   "outputs": [],
   "source": [
    "from unyt import km, m, mm, g, kg, hr, s, degree, radian\n",
    "import numpy as np\n",
    "from math import pi as π"
   ]
  },
  {
   "cell_type": "code",
   "execution_count": 2,
   "id": "f9b95060",
   "metadata": {},
   "outputs": [],
   "source": [
    "ρ = 1.225*kg/m**3 # air density\n",
    "μinf = 1.81e-5*kg/(m*s) # viscosity of air"
   ]
  },
  {
   "cell_type": "markdown",
   "id": "b842e64e",
   "metadata": {},
   "source": [
    "Goals:\n",
    "- Decrease aspect ratio"
   ]
  },
  {
   "cell_type": "markdown",
   "id": "e1d42d16",
   "metadata": {},
   "source": [
    "## Initial Design"
   ]
  },
  {
   "cell_type": "code",
   "execution_count": 3,
   "id": "9d855559",
   "metadata": {
    "scrolled": true
   },
   "outputs": [],
   "source": [
    "b = 2850*mm # wingspan\n",
    "c = 230*mm # chord"
   ]
  },
  {
   "cell_type": "code",
   "execution_count": 4,
   "id": "e9ea164c",
   "metadata": {},
   "outputs": [],
   "source": [
    "S = b*c # wing area\n",
    "AR = b**2/S"
   ]
  },
  {
   "cell_type": "code",
   "execution_count": 5,
   "id": "ddbee69d",
   "metadata": {
    "scrolled": true
   },
   "outputs": [
    {
     "data": {
      "text/plain": [
       "unyt_quantity(12.39130435, '(dimensionless)')"
      ]
     },
     "execution_count": 5,
     "metadata": {},
     "output_type": "execute_result"
    }
   ],
   "source": [
    "AR"
   ]
  },
  {
   "cell_type": "markdown",
   "id": "d87bdbfd",
   "metadata": {},
   "source": [
    "Better, although I may have overdone it"
   ]
  },
  {
   "cell_type": "markdown",
   "id": "51f70576",
   "metadata": {},
   "source": [
    "## Weight Estimate"
   ]
  },
  {
   "cell_type": "markdown",
   "id": "db6fffea",
   "metadata": {},
   "source": [
    "Weight taken from freecad model > Parts spreadsheet.  \n",
    "Iteration not saved."
   ]
  },
  {
   "cell_type": "code",
   "execution_count": 6,
   "id": "d56b51a8",
   "metadata": {},
   "outputs": [],
   "source": [
    "W = 3700*g # weight"
   ]
  },
  {
   "cell_type": "markdown",
   "id": "a0e27e30",
   "metadata": {},
   "source": [
    "## Airfoil Selection"
   ]
  },
  {
   "cell_type": "markdown",
   "id": "dd535652",
   "metadata": {},
   "source": [
    "See also:\n",
    "https://youtu.be/kAXN3MlQxxc"
   ]
  },
  {
   "cell_type": "code",
   "execution_count": 7,
   "id": "8f355c88",
   "metadata": {
    "scrolled": false
   },
   "outputs": [],
   "source": [
    "V = 45*km/hr # cruise speed"
   ]
  },
  {
   "cell_type": "markdown",
   "id": "1979c513",
   "metadata": {},
   "source": [
    "Randomly selected, see https://rcmodelhub.com/how-fast-do-rc-planes-go/#0-typical-speeds-of-popular-rc-planes-"
   ]
  },
  {
   "cell_type": "code",
   "execution_count": 8,
   "id": "fef76e19",
   "metadata": {
    "scrolled": true
   },
   "outputs": [
    {
     "data": {
      "text/plain": [
       "unyt_quantity(0.05897975, 's**2/m')"
      ]
     },
     "execution_count": 8,
     "metadata": {},
     "output_type": "execute_result"
    }
   ],
   "source": [
    "CL = (2*W)/(ρ*V**2*S)\n",
    "CL.to('s**2/m')"
   ]
  },
  {
   "cell_type": "code",
   "execution_count": 9,
   "id": "9087e749",
   "metadata": {},
   "outputs": [
    {
     "data": {
      "text/plain": [
       "195000.0"
      ]
     },
     "execution_count": 9,
     "metadata": {},
     "output_type": "execute_result"
    }
   ],
   "source": [
    "Re = (ρ*V*c)/μinf\n",
    "round(Re.to_value(), -3)"
   ]
  },
  {
   "cell_type": "markdown",
   "id": "c875c94a",
   "metadata": {},
   "source": [
    "As per: http://airfoiltools.com/airfoil/details?airfoil=clarky-il  \n",
    "Clark Y chosen because:\n",
    "- No need for inverted flight\n",
    "- Long term goal is efficiency\n",
    "- Relatively easy foam manufacturing"
   ]
  },
  {
   "cell_type": "markdown",
   "id": "76b00934",
   "metadata": {},
   "source": [
    "![clarky-cl-v-alpha](clarky-cl-v-alpha.png)"
   ]
  },
  {
   "cell_type": "markdown",
   "id": "84af22b0",
   "metadata": {},
   "source": [
    "From bottom left up: Blue = 50,000  Orange = 100,000  Green = 200,000"
   ]
  },
  {
   "cell_type": "code",
   "execution_count": 10,
   "id": "45d93fdb",
   "metadata": {},
   "outputs": [],
   "source": [
    "# rough estimations\n",
    "α0 = -3.75*degree\n",
    "Clα = 1.05\n",
    "e = 0.8"
   ]
  },
  {
   "cell_type": "code",
   "execution_count": 11,
   "id": "772e21bb",
   "metadata": {
    "scrolled": false
   },
   "outputs": [
    {
     "data": {
      "text/plain": [
       "unyt_quantity(1.01575315, '(dimensionless)')"
      ]
     },
     "execution_count": 11,
     "metadata": {},
     "output_type": "execute_result"
    }
   ],
   "source": [
    "CLα = Clα/(1+(Clα/(π*e*AR)))\n",
    "CLα"
   ]
  },
  {
   "cell_type": "code",
   "execution_count": 12,
   "id": "658e6706",
   "metadata": {},
   "outputs": [
    {
     "data": {
      "text/plain": [
       "0.05897974750540949"
      ]
     },
     "execution_count": 12,
     "metadata": {},
     "output_type": "execute_result"
    }
   ],
   "source": [
    "CL_unitless = CL.to_value('s**2/m')\n",
    "CL_unitless"
   ]
  },
  {
   "cell_type": "code",
   "execution_count": 13,
   "id": "70e4f11d",
   "metadata": {},
   "outputs": [
    {
     "data": {
      "text/plain": [
       "unyt_quantity(-0.42311827, 'degree')"
      ]
     },
     "execution_count": 13,
     "metadata": {},
     "output_type": "execute_result"
    }
   ],
   "source": [
    "α = α0+((CL_unitless/CLα)*radian)\n",
    "α"
   ]
  },
  {
   "cell_type": "markdown",
   "id": "6f7f1f7c",
   "metadata": {},
   "source": [
    "![clarky-cl-cd-v-alpha](clarky-cl-cd-v-alpha.png)"
   ]
  },
  {
   "cell_type": "markdown",
   "id": "b5c6ddf3",
   "metadata": {},
   "source": [
    "### Notes \n",
    "\n",
    "I previously used a lift curve slope (Clα) of 0.083 (instead of 1.05), because I misread the Cl v Alpha graph. This resulted in an α of 0.667 or 38°. My conclusion was:\n",
    "\n",
    "> Oops, angle of attack for cruise is uncomfortably close to aerodynamic stall. It should ideally be about 5° (see Cl/Cd v Alpha below).\n",
    "> \n",
    "> We can increase CL by:\n",
    "> - Increasing air speed\n",
    "> - Increasing wing area\n",
    "> \n",
    "> Decreasing weight is not a possibility\n",
    "\n",
    "As α is now well below 10° (the point of aerodynamic stall for the Clark Y), this is not really applicable anymore. In fact, I have since actually changed my weight estimate downward because I had a feeling I was overestimating the wing weight (3744 -> 2340).\n",
    "\n",
    "Since the cruise angle of attack is now actually on the low side, I'll lower the airspeed in the next iteration. This will hopefully get us closer to 5°. Not exactly 5, but at least something higher than 0."
   ]
  }
 ],
 "metadata": {
  "kernelspec": {
   "display_name": "Python 3",
   "language": "python",
   "name": "python3"
  },
  "language_info": {
   "codemirror_mode": {
    "name": "ipython",
    "version": 3
   },
   "file_extension": ".py",
   "mimetype": "text/x-python",
   "name": "python",
   "nbconvert_exporter": "python",
   "pygments_lexer": "ipython3",
   "version": "3.9.4"
  }
 },
 "nbformat": 4,
 "nbformat_minor": 5
}
